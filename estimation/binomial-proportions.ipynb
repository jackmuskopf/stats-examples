{
 "cells": [
  {
   "cell_type": "markdown",
   "metadata": {},
   "source": [
    "### Binomial proportions confidence interval\n",
    "\n",
    "$ \\hat{p} \\pm z\\sqrt{\\frac{\\hat{p}(1-\\hat{p})}{n}} $\n",
    "\n",
    "where $ z $ is the corresponding probit quantile function"
   ]
  },
  {
   "cell_type": "code",
   "execution_count": 1,
   "metadata": {},
   "outputs": [],
   "source": [
    "import numpy as np\n",
    "import scipy.stats"
   ]
  },
  {
   "cell_type": "code",
   "execution_count": 2,
   "metadata": {},
   "outputs": [],
   "source": [
    "def bproportions(x, interval=0.95):\n",
    "    \n",
    "    # get stats\n",
    "    n = len(x)\n",
    "    phat = x.sum()/n\n",
    "    d = (1 - interval)/2\n",
    "\n",
    "    # this is the inverse of the CDF\n",
    "    z = scipy.stats.norm.ppf(1-d)\n",
    "\n",
    "    # compute sqrt term\n",
    "    zsqrt = z*np.sqrt(phat*(1-phat)/n)\n",
    "    return np.array([\n",
    "        max([phat - zsqrt, 0]),\n",
    "        min([phat + zsqrt, 1])\n",
    "    ])"
   ]
  },
  {
   "cell_type": "code",
   "execution_count": 5,
   "metadata": {},
   "outputs": [
    {
     "data": {
      "text/plain": [
       "0.08"
      ]
     },
     "execution_count": 5,
     "metadata": {},
     "output_type": "execute_result"
    }
   ],
   "source": [
    "x = np.random.binomial(n=1, p=0.1, size=(231,))\n",
    "round(sum(x)/len(x), 2)"
   ]
  },
  {
   "cell_type": "code",
   "execution_count": 6,
   "metadata": {},
   "outputs": [
    {
     "data": {
      "text/plain": [
       "array([0.04682078, 0.11768138])"
      ]
     },
     "execution_count": 6,
     "metadata": {},
     "output_type": "execute_result"
    }
   ],
   "source": [
    "bproportions(x, 0.95)"
   ]
  },
  {
   "cell_type": "code",
   "execution_count": null,
   "metadata": {},
   "outputs": [],
   "source": []
  }
 ],
 "metadata": {
  "interpreter": {
   "hash": "b3ba2566441a7c06988d0923437866b63cedc61552a5af99d1f4fb67d367b25f"
  },
  "kernelspec": {
   "display_name": "Python 3.8.5 64-bit ('base': conda)",
   "language": "python",
   "name": "python3"
  },
  "language_info": {
   "codemirror_mode": {
    "name": "ipython",
    "version": 3
   },
   "file_extension": ".py",
   "mimetype": "text/x-python",
   "name": "python",
   "nbconvert_exporter": "python",
   "pygments_lexer": "ipython3",
   "version": "3.8.5"
  },
  "orig_nbformat": 4
 },
 "nbformat": 4,
 "nbformat_minor": 2
}
