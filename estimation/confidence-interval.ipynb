{
 "cells": [
  {
   "cell_type": "markdown",
   "metadata": {},
   "source": [
    "<strong>Note:</strong> See t-test.ipynb for computing confidence intervals for population means using t-statistics."
   ]
  },
  {
   "cell_type": "markdown",
   "metadata": {},
   "source": [
    "## Using bootstrap for confidence intervals\n",
    "\n",
    "[MIT Bootstrap Overview](https://ocw.mit.edu/courses/mathematics/18-05-introduction-to-probability-and-statistics-spring-2014/readings/MIT18_05S14_Reading24.pdf)\n",
    "\n",
    "See `t-test.ipynb` for computing confidence interval for t-test means."
   ]
  },
  {
   "cell_type": "code",
   "execution_count": 2,
   "metadata": {},
   "outputs": [],
   "source": [
    "import numpy as np\n",
    "import seaborn as sns"
   ]
  },
  {
   "cell_type": "code",
   "execution_count": 3,
   "metadata": {},
   "outputs": [],
   "source": [
    "penguins = sns.load_dataset(\"penguins\")\n",
    "penguins.dropna(inplace=True, subset=['flipper_length_mm'])"
   ]
  },
  {
   "cell_type": "code",
   "execution_count": 83,
   "metadata": {},
   "outputs": [],
   "source": [
    "x = penguins[penguins.species == 'Chinstrap'].flipper_length_mm.values"
   ]
  },
  {
   "cell_type": "code",
   "execution_count": 84,
   "metadata": {},
   "outputs": [],
   "source": [
    "def bootstrap_confidence(x, t, p, n=100):\n",
    "    '''\n",
    "    x -> sample\n",
    "    t -> function statistic to compute confidence\n",
    "    p -> confidence interval percentage\n",
    "    n -> number of iterations to bootstrap\n",
    "    '''\n",
    "    t_arr = np.array([])\n",
    "    for i in range(n):\n",
    "        sub_x = np.random.choice(x, size=len(x), replace=True)\n",
    "        t_arr = np.append(t_arr, t(sub_x))\n",
    "    dp = (100 - p)/2\n",
    "    return [np.percentile(t_arr, dp), np.percentile(t_arr, 100-dp)]\n",
    "    "
   ]
  },
  {
   "cell_type": "code",
   "execution_count": 104,
   "metadata": {},
   "outputs": [
    {
     "data": {
      "text/plain": [
       "[194.1466911764706, 197.41360294117646]"
      ]
     },
     "execution_count": 104,
     "metadata": {},
     "output_type": "execute_result"
    }
   ],
   "source": [
    "bootstrap_confidence(x, lambda _ : _.mean(), 95, n=1000)"
   ]
  },
  {
   "cell_type": "code",
   "execution_count": null,
   "metadata": {},
   "outputs": [],
   "source": []
  }
 ],
 "metadata": {
  "interpreter": {
   "hash": "dd595258dd327ba95cf70e4dda5cdfb1c686f1da889b5388a47b11633da56e1e"
  },
  "kernelspec": {
   "display_name": "Python 3.9.7 64-bit ('base': conda)",
   "language": "python",
   "name": "python3"
  },
  "language_info": {
   "codemirror_mode": {
    "name": "ipython",
    "version": 3
   },
   "file_extension": ".py",
   "mimetype": "text/x-python",
   "name": "python",
   "nbconvert_exporter": "python",
   "pygments_lexer": "ipython3",
   "version": "3.9.7"
  },
  "orig_nbformat": 4
 },
 "nbformat": 4,
 "nbformat_minor": 2
}
