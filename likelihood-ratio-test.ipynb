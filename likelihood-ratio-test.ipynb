{
 "cells": [
  {
   "cell_type": "code",
   "execution_count": 2,
   "metadata": {},
   "outputs": [],
   "source": [
    "import logging\n",
    "logging.basicConfig(level=logging.INFO)\n",
    "logger = logging.getLogger()"
   ]
  },
  {
   "cell_type": "code",
   "execution_count": 3,
   "metadata": {},
   "outputs": [
    {
     "name": "stderr",
     "output_type": "stream",
     "text": [
      "INFO:numexpr.utils:NumExpr defaulting to 6 threads.\n"
     ]
    }
   ],
   "source": [
    "import numpy as np\n",
    "import pandas as pd\n",
    "import seaborn as sns\n",
    "import matplotlib.pyplot as plt\n",
    "import scipy.stats"
   ]
  },
  {
   "cell_type": "code",
   "execution_count": 4,
   "metadata": {},
   "outputs": [
    {
     "name": "stdout",
     "output_type": "stream",
     "text": [
      "Data shape: (342, 7) <class 'pandas.core.frame.DataFrame'>\n"
     ]
    },
    {
     "data": {
      "text/plain": [
       "<seaborn.axisgrid.FacetGrid at 0x27b4fd0ccd0>"
      ]
     },
     "execution_count": 4,
     "metadata": {},
     "output_type": "execute_result"
    },
    {
     "data": {
      "image/png": "[encoded data removed]",
      "text/plain": [
       "<Figure size 360x360 with 1 Axes>"
      ]
     },
     "metadata": {
      "needs_background": "light"
     },
     "output_type": "display_data"
    }
   ],
   "source": [
    "penguins = sns.load_dataset(\"penguins\")\n",
    "penguins.dropna(inplace=True, subset=['flipper_length_mm'])\n",
    "print('Data shape:', penguins.shape, type(penguins))\n",
    "sns.displot(penguins, x=\"flipper_length_mm\")"
   ]
  },
  {
   "cell_type": "code",
   "execution_count": 5,
   "metadata": {},
   "outputs": [
    {
     "data": {
      "text/plain": [
       "<seaborn.axisgrid.FacetGrid at 0x27b555fd550>"
      ]
     },
     "execution_count": 5,
     "metadata": {},
     "output_type": "execute_result"
    },
    {
     "data": {
      "image/png": "[encoded data removed]",
      "text/plain": [
       "<Figure size 444.125x360 with 1 Axes>"
      ]
     },
     "metadata": {
      "needs_background": "light"
     },
     "output_type": "display_data"
    }
   ],
   "source": [
    "sns.displot(penguins, x=\"flipper_length_mm\", hue=\"species\", element=\"step\")"
   ]
  },
  {
   "cell_type": "markdown",
   "metadata": {},
   "source": [
    "### H<sub>0</sub>: $\\mu$<sub>Adelie</sub> $=$ $\\mu$<sub>Chinstrap</sub>\n",
    "### H<sub>1</sub>: $\\mu$<sub>Adelie</sub> $\\ne$ $\\mu$<sub>Chinstrap</sub>"
   ]
  },
  {
   "cell_type": "code",
   "execution_count": 6,
   "metadata": {},
   "outputs": [
    {
     "data": {
      "text/html": [
       "<div>\n",
       "<style scoped>\n",
       "    .dataframe tbody tr th:only-of-type {\n",
       "        vertical-align: middle;\n",
       "    }\n",
       "\n",
       "    .dataframe tbody tr th {\n",
       "        vertical-align: top;\n",
       "    }\n",
       "\n",
       "    .dataframe thead th {\n",
       "        text-align: right;\n",
       "    }\n",
       "</style>\n",
       "<table border=\"1\" class=\"dataframe\">\n",
       "  <thead>\n",
       "    <tr style=\"text-align: right;\">\n",
       "      <th></th>\n",
       "      <th>species</th>\n",
       "      <th>island</th>\n",
       "      <th>bill_length_mm</th>\n",
       "      <th>bill_depth_mm</th>\n",
       "      <th>flipper_length_mm</th>\n",
       "      <th>body_mass_g</th>\n",
       "      <th>sex</th>\n",
       "    </tr>\n",
       "  </thead>\n",
       "  <tbody>\n",
       "    <tr>\n",
       "      <th>0</th>\n",
       "      <td>Adelie</td>\n",
       "      <td>Torgersen</td>\n",
       "      <td>39.1</td>\n",
       "      <td>18.7</td>\n",
       "      <td>181.0</td>\n",
       "      <td>3750.0</td>\n",
       "      <td>Male</td>\n",
       "    </tr>\n",
       "    <tr>\n",
       "      <th>1</th>\n",
       "      <td>Adelie</td>\n",
       "      <td>Torgersen</td>\n",
       "      <td>39.5</td>\n",
       "      <td>17.4</td>\n",
       "      <td>186.0</td>\n",
       "      <td>3800.0</td>\n",
       "      <td>Female</td>\n",
       "    </tr>\n",
       "    <tr>\n",
       "      <th>2</th>\n",
       "      <td>Adelie</td>\n",
       "      <td>Torgersen</td>\n",
       "      <td>40.3</td>\n",
       "      <td>18.0</td>\n",
       "      <td>195.0</td>\n",
       "      <td>3250.0</td>\n",
       "      <td>Female</td>\n",
       "    </tr>\n",
       "    <tr>\n",
       "      <th>4</th>\n",
       "      <td>Adelie</td>\n",
       "      <td>Torgersen</td>\n",
       "      <td>36.7</td>\n",
       "      <td>19.3</td>\n",
       "      <td>193.0</td>\n",
       "      <td>3450.0</td>\n",
       "      <td>Female</td>\n",
       "    </tr>\n",
       "    <tr>\n",
       "      <th>5</th>\n",
       "      <td>Adelie</td>\n",
       "      <td>Torgersen</td>\n",
       "      <td>39.3</td>\n",
       "      <td>20.6</td>\n",
       "      <td>190.0</td>\n",
       "      <td>3650.0</td>\n",
       "      <td>Male</td>\n",
       "    </tr>\n",
       "  </tbody>\n",
       "</table>\n",
       "</div>"
      ],
      "text/plain": [
       "  species     island  bill_length_mm  bill_depth_mm  flipper_length_mm  \\\n",
       "0  Adelie  Torgersen            39.1           18.7              181.0   \n",
       "1  Adelie  Torgersen            39.5           17.4              186.0   \n",
       "2  Adelie  Torgersen            40.3           18.0              195.0   \n",
       "4  Adelie  Torgersen            36.7           19.3              193.0   \n",
       "5  Adelie  Torgersen            39.3           20.6              190.0   \n",
       "\n",
       "   body_mass_g     sex  \n",
       "0       3750.0    Male  \n",
       "1       3800.0  Female  \n",
       "2       3250.0  Female  \n",
       "4       3450.0  Female  \n",
       "5       3650.0    Male  "
      ]
     },
     "execution_count": 6,
     "metadata": {},
     "output_type": "execute_result"
    }
   ],
   "source": [
    "penguins.head()"
   ]
  },
  {
   "cell_type": "markdown",
   "metadata": {},
   "source": [
    "<br>\n",
    "\n",
    "## Likelihood ratio test\n",
    "\n",
    "The likelihood ratio test is\n",
    "\n",
    "- Reject H<sub>0</sub> if $\\Lambda = l(\\theta_0 | X)/l(\\theta_1 | X) \\lt c$\n",
    "\n",
    "Since log-likelihood is computationally more feasible, we restate the test in terms of log-likelihood:\n",
    "\n",
    "- Reject H<sub>0</sub> if $-2log(\\Lambda) \\lt c$\n",
    "- https://en.wikipedia.org/wiki/Wilks%27_theorem\n"
   ]
  },
  {
   "cell_type": "markdown",
   "metadata": {},
   "source": [
    "- What power do we require? <br>\n",
    "  - If power = 0.8, then P(H<sub>1</sub> | H<sub>1</sub>) = 0.8\n",
    "  - Instead of analytically determining P(H<sub>1</sub> | H<sub>1</sub>), we can simulate sampling from distributions"
   ]
  },
  {
   "cell_type": "code",
   "execution_count": 74,
   "metadata": {},
   "outputs": [
    {
     "data": {
      "text/plain": [
       "((189.95364238410596, 42.48129468005789),\n",
       " (195.8235294117647, 50.115916955017305))"
      ]
     },
     "execution_count": 74,
     "metadata": {},
     "output_type": "execute_result"
    }
   ],
   "source": [
    "# Given H1, the adelie flipper length ~ N(mu_a, sigma_a), and the chinstrap flipper length ~ N(mu_b, sigma_b)\n",
    "\n",
    "a, b = penguins[penguins.species == 'Adelie'].flipper_length_mm.values, penguins[penguins.species == 'Chinstrap'].flipper_length_mm.values\n",
    "(a.mean(), a.std()**2), (b.mean(), b.std()**2)"
   ]
  },
  {
   "cell_type": "markdown",
   "metadata": {},
   "source": [
    "$l(\\theta) = log(L(\\theta)) = log(\\Pi_{i=1}^N p(x_i | \\theta)) = \\sum_{i=1}^N log(p(x_i | \\theta))$\n",
    "\n",
    "Since $p(x_i | \\theta) = \\frac{1}{\\sqrt{2\\pi\\sigma^2}} e^{- \\frac{(x_i - \\mu)^2}{2\\sigma^2}}$\n",
    "\n",
    "$l(\\theta) = \\sum_{i=1}^N log(\\frac{1}{\\sqrt{2\\pi\\sigma^2}} e^{- \\frac{(x_i - \\mu)^2}{2\\sigma^2}})$\n",
    "\n",
    "$ = \\frac{-N}{2}log(2\\pi\\sigma^2) - \\frac{1}{2\\sigma^2}\\sum_{i=1}^N(x_i - \\mu)^2$"
   ]
  },
  {
   "cell_type": "code",
   "execution_count": 75,
   "metadata": {},
   "outputs": [],
   "source": [
    "def log_like(x, mu, sigma):\n",
    "    N = len(x)\n",
    "    return -(N/2)*np.log(2*np.pi*sigma**2) - (1/(2*sigma**2))*sum([(x_i - mu)**2 for x_i in x])"
   ]
  },
  {
   "cell_type": "code",
   "execution_count": 76,
   "metadata": {},
   "outputs": [],
   "source": [
    "SAMPLE_SCALE = 1"
   ]
  },
  {
   "cell_type": "code",
   "execution_count": 77,
   "metadata": {},
   "outputs": [],
   "source": [
    "# define sampling on some order of original data cardnality\n",
    "def get_h1_sample(scale=SAMPLE_SCALE):\n",
    "    n_a = int(len(a)*scale)\n",
    "    n_b = int(len(b)*scale)\n",
    "\n",
    "    sample_a = np.random.normal(size=(n_a,))*a.std() + a.mean()\n",
    "    sample_b = np.random.normal(size=(n_b,))*b.std() + b.mean()\n",
    "\n",
    "    sample = pd.DataFrame({\n",
    "        \"species\" : ['Adelie']*len(sample_a) + ['Chinstrap']*len(sample_b),\n",
    "        \"flipper_length_mm\" : np.concatenate([sample_a, sample_b])\n",
    "    })\n",
    "    return sample"
   ]
  },
  {
   "cell_type": "code",
   "execution_count": 78,
   "metadata": {},
   "outputs": [],
   "source": [
    "# define sampling on some order of original data cardnality\n",
    "def get_h0_sample(scale=SAMPLE_SCALE):\n",
    "    n_a = int(len(a)*scale)\n",
    "    n_b = int(len(b)*scale)\n",
    "\n",
    "    mu =np.concatenate((a, b)).mean()\n",
    "    sample_a = np.random.normal(size=(n_a,))*a.std() + mu\n",
    "    sample_b = np.random.normal(size=(n_b,))*b.std() + mu\n",
    "\n",
    "    sample = pd.DataFrame({\n",
    "        \"species\" : ['Adelie']*len(sample_a) + ['Chinstrap']*len(sample_b),\n",
    "        \"flipper_length_mm\" : np.concatenate([sample_a, sample_b])\n",
    "    })\n",
    "    return sample"
   ]
  },
  {
   "cell_type": "code",
   "execution_count": 79,
   "metadata": {},
   "outputs": [
    {
     "data": {
      "text/plain": [
       "<seaborn.axisgrid.FacetGrid at 0x27b579d66d0>"
      ]
     },
     "execution_count": 79,
     "metadata": {},
     "output_type": "execute_result"
    },
    {
     "data": {
      "image/png": "[encoded data removed]",
      "text/plain": [
       "<Figure size 444.125x360 with 1 Axes>"
      ]
     },
     "metadata": {
      "needs_background": "light"
     },
     "output_type": "display_data"
    }
   ],
   "source": [
    "sample = get_h1_sample()\n",
    "sns.displot(sample, x='flipper_length_mm', hue='species', element=\"step\")"
   ]
  },
  {
   "cell_type": "code",
   "execution_count": 80,
   "metadata": {},
   "outputs": [
    {
     "data": {
      "text/html": [
       "<div>\n",
       "<style scoped>\n",
       "    .dataframe tbody tr th:only-of-type {\n",
       "        vertical-align: middle;\n",
       "    }\n",
       "\n",
       "    .dataframe tbody tr th {\n",
       "        vertical-align: top;\n",
       "    }\n",
       "\n",
       "    .dataframe thead th {\n",
       "        text-align: right;\n",
       "    }\n",
       "</style>\n",
       "<table border=\"1\" class=\"dataframe\">\n",
       "  <thead>\n",
       "    <tr style=\"text-align: right;\">\n",
       "      <th></th>\n",
       "      <th>species</th>\n",
       "      <th>flipper_length_mm</th>\n",
       "    </tr>\n",
       "  </thead>\n",
       "  <tbody>\n",
       "    <tr>\n",
       "      <th>0</th>\n",
       "      <td>Adelie</td>\n",
       "      <td>187.467060</td>\n",
       "    </tr>\n",
       "    <tr>\n",
       "      <th>1</th>\n",
       "      <td>Adelie</td>\n",
       "      <td>199.102713</td>\n",
       "    </tr>\n",
       "    <tr>\n",
       "      <th>2</th>\n",
       "      <td>Adelie</td>\n",
       "      <td>201.846830</td>\n",
       "    </tr>\n",
       "    <tr>\n",
       "      <th>3</th>\n",
       "      <td>Adelie</td>\n",
       "      <td>185.965080</td>\n",
       "    </tr>\n",
       "    <tr>\n",
       "      <th>4</th>\n",
       "      <td>Adelie</td>\n",
       "      <td>191.036386</td>\n",
       "    </tr>\n",
       "  </tbody>\n",
       "</table>\n",
       "</div>"
      ],
      "text/plain": [
       "  species  flipper_length_mm\n",
       "0  Adelie         187.467060\n",
       "1  Adelie         199.102713\n",
       "2  Adelie         201.846830\n",
       "3  Adelie         185.965080\n",
       "4  Adelie         191.036386"
      ]
     },
     "execution_count": 80,
     "metadata": {},
     "output_type": "execute_result"
    }
   ],
   "source": [
    "sample.head()"
   ]
  },
  {
   "cell_type": "code",
   "execution_count": 81,
   "metadata": {},
   "outputs": [
    {
     "data": {
      "text/plain": [
       "<seaborn.axisgrid.FacetGrid at 0x27b579d6790>"
      ]
     },
     "execution_count": 81,
     "metadata": {},
     "output_type": "execute_result"
    },
    {
     "data": {
      "image/png": "[encoded data removed]",
      "text/plain": [
       "<Figure size 444.125x360 with 1 Axes>"
      ]
     },
     "metadata": {
      "needs_background": "light"
     },
     "output_type": "display_data"
    }
   ],
   "source": [
    "sample = get_h0_sample()\n",
    "sns.displot(sample, x='flipper_length_mm', hue='species', element=\"step\")"
   ]
  },
  {
   "cell_type": "markdown",
   "metadata": {},
   "source": [
    "Likelihood of H1 = p1_a(Xa1)*p1_a(Xa2)*...*p1_b(Xb1)*p1_b(Xb2)*...\n",
    "Likelihood of H0 = p0_a(Xa1)*p0_a(Xa2)*...*p0_b(Xb1)*p0_b(Xb2)*..."
   ]
  },
  {
   "cell_type": "code",
   "execution_count": 82,
   "metadata": {},
   "outputs": [],
   "source": [
    "def simulate_log_test(c, h0=False, sample=None):\n",
    "    \n",
    "    '''\n",
    "    Log likelihood is the better computational option than computing likelihood\n",
    "    \n",
    "    As N -> infinity, L(theta) = p(x1)*p(x2)*...*p(xN) goes to 0, but l(theta) = log(px1) + log(px2) + ... + log(pxN) does not.\n",
    "    \n",
    "    Suppose x > 0; as x -> 0, log(x) -> -infinity.\n",
    "    '''\n",
    "\n",
    "    # sample data\n",
    "    if sample is None:\n",
    "        sample = get_h1_sample() if not h0 else get_h0_sample()\n",
    "    a = sample[sample.species == 'Adelie'].flipper_length_mm.values\n",
    "    b = sample[sample.species == 'Chinstrap'].flipper_length_mm.values\n",
    "\n",
    "    logger.debug(f'{len(a)} Adelie samples and {len(b)} Chinstrap samples')\n",
    "\n",
    "    # compute likelihood\n",
    "    log_likelihood_h1 = log_like(a, a.mean(), a.std()) + log_like(b, b.mean(), b.std())\n",
    "\n",
    "    # get model distributions\n",
    "    mu = np.concatenate((a,b)).mean()\n",
    "\n",
    "    # compute likelihood\n",
    "    log_likelihood_h0 = log_like(a, mu, a.std()) + log_like(b, mu, b.std())\n",
    "    \n",
    "    t_X = -2*(log_likelihood_h0 - log_likelihood_h1)\n",
    "    return {\n",
    "        \"H0\" : t_X < c,\n",
    "        \"t_X\" : t_X,\n",
    "        \"L_H0\" : log_likelihood_h0,\n",
    "        \"L_H1\" : log_likelihood_h1\n",
    "    }\n"
   ]
  },
  {
   "cell_type": "code",
   "execution_count": 83,
   "metadata": {},
   "outputs": [],
   "source": [
    "# how many simulations to draw for H0 and H1\n",
    "n_simulations = 1000"
   ]
  },
  {
   "cell_type": "code",
   "execution_count": 84,
   "metadata": {},
   "outputs": [],
   "source": [
    "# run some simulations given H1\n",
    "test_given_h1 = pd.DataFrame([simulate_log_test(0, h0=False) for _ in range(n_simulations)])"
   ]
  },
  {
   "cell_type": "code",
   "execution_count": 85,
   "metadata": {},
   "outputs": [],
   "source": [
    "# find what cutoff we need to have the required power\n",
    "power = 0.8\n",
    "c_opt = np.percentile(test_given_h1.t_X, (1-power)*100)"
   ]
  },
  {
   "cell_type": "code",
   "execution_count": 86,
   "metadata": {},
   "outputs": [
    {
     "data": {
      "text/plain": [
       "0.83"
      ]
     },
     "execution_count": 86,
     "metadata": {},
     "output_type": "execute_result"
    }
   ],
   "source": [
    "# show that desired power is acheived\n",
    "1 - pd.DataFrame([simulate_log_test(c_opt, h0=False) for _ in range(1000)]).H0.mean()"
   ]
  },
  {
   "cell_type": "markdown",
   "metadata": {},
   "source": [
    "### What is the p-value of this test?\n",
    "\n",
    "\n",
    "- The test advises: reject $H_0$ if $T(X) > c$\n",
    "  - where $T(X) = -2log(\\Lambda)$\n",
    "- According to [Wilkes Theorem](https://en.wikipedia.org/wiki/Wilks%27_theorem), $T(X)$ follows a chi-squared distribution\n",
    "  - \"...the $\\chi^{2}$ distribution has degrees of freedom equal to the difference in dimensionality of $\\Theta$ and $\\Theta _{0}$ where $\\Theta$ is the full parameter space and $ \\Theta_{0} $ is the subset of the parameter space associated with $H_0$.\"\n",
    "  - Here, $dim(\\Theta) = 2$, which are $(\\mu_a, \\mu_b)$ and $dim(\\Theta_{0}) = 1$ with $(\\mu)$ \n",
    "- Therefore, $p_{value} = P(T(x) > T(X) | H_0)$ where $P$ is a chi-squared distribution with 1 degree of freedom and $X$ is the observed data.\n",
    "- Similarly, the significance $\\alpha = P(T(x) \\in H_1 | H_0) = P(T(x) \\gt c | H_0)$ where $P$ is a again a chi-squared distribution with 1 degree of freedom."
   ]
  },
  {
   "cell_type": "code",
   "execution_count": 87,
   "metadata": {},
   "outputs": [],
   "source": [
    "# under H0, what is the probability that T(x) > c? => 1 - CDF(c)\n",
    "alpha = 1 - scipy.stats.chi2.cdf(c_opt, df=1)"
   ]
  },
  {
   "cell_type": "code",
   "execution_count": 88,
   "metadata": {},
   "outputs": [
    {
     "data": {
      "text/html": [
       "<div>\n",
       "<style scoped>\n",
       "    .dataframe tbody tr th:only-of-type {\n",
       "        vertical-align: middle;\n",
       "    }\n",
       "\n",
       "    .dataframe tbody tr th {\n",
       "        vertical-align: top;\n",
       "    }\n",
       "\n",
       "    .dataframe thead th {\n",
       "        text-align: right;\n",
       "    }\n",
       "</style>\n",
       "<table border=\"1\" class=\"dataframe\">\n",
       "  <thead>\n",
       "    <tr style=\"text-align: right;\">\n",
       "      <th></th>\n",
       "      <th>H0</th>\n",
       "      <th>t_X</th>\n",
       "      <th>L_H0</th>\n",
       "      <th>L_H1</th>\n",
       "    </tr>\n",
       "  </thead>\n",
       "  <tbody>\n",
       "    <tr>\n",
       "      <th>0</th>\n",
       "      <td>False</td>\n",
       "      <td>38.415985</td>\n",
       "      <td>-743.116037</td>\n",
       "      <td>-723.908045</td>\n",
       "    </tr>\n",
       "    <tr>\n",
       "      <th>1</th>\n",
       "      <td>False</td>\n",
       "      <td>30.784848</td>\n",
       "      <td>-743.862972</td>\n",
       "      <td>-728.470548</td>\n",
       "    </tr>\n",
       "    <tr>\n",
       "      <th>2</th>\n",
       "      <td>False</td>\n",
       "      <td>30.547923</td>\n",
       "      <td>-753.724816</td>\n",
       "      <td>-738.450854</td>\n",
       "    </tr>\n",
       "    <tr>\n",
       "      <th>3</th>\n",
       "      <td>False</td>\n",
       "      <td>31.413233</td>\n",
       "      <td>-740.519052</td>\n",
       "      <td>-724.812436</td>\n",
       "    </tr>\n",
       "    <tr>\n",
       "      <th>4</th>\n",
       "      <td>False</td>\n",
       "      <td>46.865123</td>\n",
       "      <td>-747.291232</td>\n",
       "      <td>-723.858671</td>\n",
       "    </tr>\n",
       "  </tbody>\n",
       "</table>\n",
       "</div>"
      ],
      "text/plain": [
       "      H0        t_X        L_H0        L_H1\n",
       "0  False  38.415985 -743.116037 -723.908045\n",
       "1  False  30.784848 -743.862972 -728.470548\n",
       "2  False  30.547923 -753.724816 -738.450854\n",
       "3  False  31.413233 -740.519052 -724.812436\n",
       "4  False  46.865123 -747.291232 -723.858671"
      ]
     },
     "execution_count": 88,
     "metadata": {},
     "output_type": "execute_result"
    }
   ],
   "source": [
    "test_given_h1.head()"
   ]
  },
  {
   "cell_type": "code",
   "execution_count": 89,
   "metadata": {},
   "outputs": [],
   "source": [
    "# let's see what a histogram of T(X) looks like under the null hypothesis\n",
    "test_given_h0 = pd.DataFrame([simulate_log_test(c_opt, h0=True) for _ in range(n_simulations)])"
   ]
  },
  {
   "cell_type": "code",
   "execution_count": 90,
   "metadata": {},
   "outputs": [
    {
     "data": {
      "text/plain": [
       "0.0"
      ]
     },
     "execution_count": 90,
     "metadata": {},
     "output_type": "execute_result"
    }
   ],
   "source": [
    "# how often would we incorrectly reject the null hypothesis?\n",
    "(test_given_h0[test_given_h0['H0'] == False]).H0.sum()/len(test_given_h0)"
   ]
  },
  {
   "cell_type": "code",
   "execution_count": 91,
   "metadata": {},
   "outputs": [
    {
     "data": {
      "text/plain": [
       "<seaborn.axisgrid.FacetGrid at 0x27b57b893d0>"
      ]
     },
     "execution_count": 91,
     "metadata": {},
     "output_type": "execute_result"
    },
    {
     "data": {
      "image/png": "[encoded data removed]",
      "text/plain": [
       "<Figure size 360x360 with 1 Axes>"
      ]
     },
     "metadata": {
      "needs_background": "light"
     },
     "output_type": "display_data"
    }
   ],
   "source": [
    "# this looks like a chi-squared with 1 degree of freedom https://en.wikipedia.org/wiki/Chi-squared_distribution\n",
    "sns.displot(test_given_h0, x='t_X', stat='probability')"
   ]
  },
  {
   "cell_type": "code",
   "execution_count": 92,
   "metadata": {},
   "outputs": [
    {
     "name": "stdout",
     "output_type": "stream",
     "text": [
      "P-value simulated from H1: 1.8697515119514563e-06\n",
      "P-value simulated from H0: 0.8063631992623016\n"
     ]
    }
   ],
   "source": [
    "# simulated under H_0\n",
    "p_val_h0 = 1 - scipy.stats.chi2.cdf(np.random.choice(test_given_h0.t_X.values), df=1)\n",
    "\n",
    "# simulated under H_1\n",
    "p_val_h1 = 1 - scipy.stats.chi2.cdf(np.random.choice(test_given_h1.t_X.values), df=1)\n",
    "\n",
    "# we see that we get much better p-values when drawing from the H1-simulated distribution\n",
    "print('P-value simulated from H1:', p_val_h1)\n",
    "print('P-value simulated from H0:', p_val_h0)"
   ]
  },
  {
   "cell_type": "code",
   "execution_count": 93,
   "metadata": {},
   "outputs": [],
   "source": [
    "# plot the dist of p-values for each\n",
    "pval = lambda t_x: 2*(1 - scipy.stats.chi2.cdf(t_x, df=1))\n",
    "test_given_h0['pval'] = test_given_h0['t_X'].apply(pval)\n",
    "test_given_h1['pval'] = test_given_h1['t_X'].apply(pval)\n",
    "\n",
    "pval_df = pd.DataFrame({\n",
    "    \"source\" : ['H0']*len(test_given_h0) + ['H1']*len(test_given_h1),\n",
    "    \"p_value\" : pd.concat((test_given_h0.pval, test_given_h1.pval)),\n",
    "    \"reject_h0\" : ~pd.concat((test_given_h0.H0, test_given_h1.H0))\n",
    "}).reset_index(drop=True)"
   ]
  },
  {
   "cell_type": "code",
   "execution_count": 94,
   "metadata": {},
   "outputs": [
    {
     "name": "stdout",
     "output_type": "stream",
     "text": [
      "N false positives: 0\n"
     ]
    }
   ],
   "source": [
    "print(\"N false positives:\", len(pval_df[(pval_df.source == 'H0') & (pval_df.reject_h0)]))"
   ]
  },
  {
   "cell_type": "code",
   "execution_count": 95,
   "metadata": {},
   "outputs": [
    {
     "data": {
      "text/plain": [
       "<seaborn.axisgrid.FacetGrid at 0x27b58ccaa00>"
      ]
     },
     "execution_count": 95,
     "metadata": {},
     "output_type": "execute_result"
    },
    {
     "data": {
      "image/png": "[encoded data removed]",
      "text/plain": [
       "<Figure size 409.875x360 with 1 Axes>"
      ]
     },
     "metadata": {
      "needs_background": "light"
     },
     "output_type": "display_data"
    }
   ],
   "source": [
    "# compare dist of p-vals from sources; note if any false positives\n",
    "sns.displot(pval_df, x='p_value', hue='source')"
   ]
  },
  {
   "cell_type": "code",
   "execution_count": 96,
   "metadata": {},
   "outputs": [
    {
     "data": {
      "text/plain": [
       "{'H0': False,\n",
       " 't_X': 34.033631039708325,\n",
       " 'L_H0': -743.9061897441006,\n",
       " 'L_H1': -726.8893742242465,\n",
       " 'pval': 1.083353651232244e-08,\n",
       " 'significance': 6.856266882016016e-07,\n",
       " 'is_significant': True}"
      ]
     },
     "execution_count": 96,
     "metadata": {},
     "output_type": "execute_result"
    }
   ],
   "source": [
    "# so, to make a long story short, we reject the null hypothesis and consider this study significant\n",
    "results = simulate_log_test(c_opt, sample=penguins)\n",
    "results['pval'] = pval(results['t_X'])\n",
    "results['significance'] = alpha\n",
    "results['is_significant'] = results['pval'] < alpha\n",
    "results"
   ]
  },
  {
   "cell_type": "code",
   "execution_count": null,
   "metadata": {},
   "outputs": [],
   "source": [
    "# reverse H_1 and H_0?\n",
    "# p-val as function of N?"
   ]
  }
 ],
 "metadata": {
  "interpreter": {
   "hash": "b3ba2566441a7c06988d0923437866b63cedc61552a5af99d1f4fb67d367b25f"
  },
  "kernelspec": {
   "display_name": "Python 3.8.5 64-bit ('base': conda)",
   "language": "python",
   "name": "python3"
  },
  "language_info": {
   "codemirror_mode": {
    "name": "ipython",
    "version": 3
   },
   "file_extension": ".py",
   "mimetype": "text/x-python",
   "name": "python",
   "nbconvert_exporter": "python",
   "pygments_lexer": "ipython3",
   "version": "3.9.7"
  },
  "orig_nbformat": 4
 },
 "nbformat": 4,
 "nbformat_minor": 2
}
