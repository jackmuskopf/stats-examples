{
 "cells": [
  {
   "cell_type": "code",
   "execution_count": 1,
   "metadata": {},
   "outputs": [],
   "source": [
    "import numpy as np"
   ]
  },
  {
   "cell_type": "code",
   "execution_count": 3,
   "metadata": {},
   "outputs": [],
   "source": [
    "def monty_hall_game(switches=False, adjusted=False):\n",
    "\n",
    "    # setup doors, car, and goats\n",
    "    doors = {1, 2, 3}\n",
    "    car = np.random.randint(1,4)\n",
    "    goats = doors.difference({car})\n",
    "\n",
    "    # pick a door\n",
    "    first_choice = np.random.choice(list(doors))\n",
    "\n",
    "    # Monty Hall shows a goat; mustn't be the contestant's first choice\n",
    "    _alt_goats = goats.difference({first_choice}) if not adjusted else goats\n",
    "    free_goat = np.random.choice(list(_alt_goats))\n",
    "\n",
    "    # choose a door\n",
    "    if switches:\n",
    "        final_choice = doors.difference({first_choice, free_goat}).pop()\n",
    "    elif adjusted and (first_choice == free_goat):\n",
    "        final_choice = np.random.choice(list(doors.difference({free_goat})))\n",
    "    else:\n",
    "        final_choice = first_choice\n",
    "\n",
    "    return final_choice == car"
   ]
  },
  {
   "cell_type": "code",
   "execution_count": 24,
   "metadata": {},
   "outputs": [],
   "source": [
    "N = 1000"
   ]
  },
  {
   "cell_type": "code",
   "execution_count": 25,
   "metadata": {},
   "outputs": [
    {
     "data": {
      "text/plain": [
       "(0.677, 0.344)"
      ]
     },
     "execution_count": 25,
     "metadata": {},
     "output_type": "execute_result"
    }
   ],
   "source": [
    "# when a goat is revealed, the contestant gains no information about their first choice; however, they do gain information about the alternative door\n",
    "switch_tests = np.array([ monty_hall_game(True) for _ in range(N) ]).astype('int64')\n",
    "no_switch_tests = np.array([ monty_hall_game(False) for _ in range(N) ]).astype('int64')\n",
    "switch_tests.mean(), no_switch_tests.mean()"
   ]
  },
  {
   "cell_type": "code",
   "execution_count": 26,
   "metadata": {},
   "outputs": [
    {
     "data": {
      "text/plain": [
       "(0.502, 0.472)"
      ]
     },
     "execution_count": 26,
     "metadata": {},
     "output_type": "execute_result"
    }
   ],
   "source": [
    "# adjust to include the first choice in possible goats revealed; now the contestant receives information about all doors equally\n",
    "switch_tests = np.array([ monty_hall_game(True, adjusted=True) for _ in range(N) ]).astype('int64')\n",
    "no_switch_tests = np.array([ monty_hall_game(False, adjusted=True) for _ in range(N) ]).astype('int64')\n",
    "switch_tests.mean(), no_switch_tests.mean()"
   ]
  },
  {
   "cell_type": "code",
   "execution_count": null,
   "metadata": {},
   "outputs": [],
   "source": []
  }
 ],
 "metadata": {
  "interpreter": {
   "hash": "b3ba2566441a7c06988d0923437866b63cedc61552a5af99d1f4fb67d367b25f"
  },
  "kernelspec": {
   "display_name": "Python 3.8.5 64-bit ('base': conda)",
   "language": "python",
   "name": "python3"
  },
  "language_info": {
   "codemirror_mode": {
    "name": "ipython",
    "version": 3
   },
   "file_extension": ".py",
   "mimetype": "text/x-python",
   "name": "python",
   "nbconvert_exporter": "python",
   "pygments_lexer": "ipython3",
   "version": "3.8.5"
  },
  "orig_nbformat": 4
 },
 "nbformat": 4,
 "nbformat_minor": 2
}
