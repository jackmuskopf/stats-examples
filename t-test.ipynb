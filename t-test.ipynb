{
 "cells": [
  {
   "cell_type": "markdown",
   "metadata": {},
   "source": [
    "## [Student's t-test](https://en.wikipedia.org/wiki/Student%27s_t-test)\n",
    "\n",
    "\"The t-test is any statistical hypothesis test in which the test statistic follows a Student's t-distribution under the null hypothesis.\"\n",
    "\n",
    "Suppose $X$ follows a normal distribution $N(\\mu, \\sigma^2)$.  If $\\mu$ is assumed and $\\sigma^2$ is estimated as $S^2 = \\frac{1}{N-1}\\sum{(X_i - \\bar{X})^2}$, then $T(X) = \\frac{\\bar{X} - \\mu}{S/\\sqrt{N}}$ follows a t-distribution with $N-1$ degrees of freedom."
   ]
  },
  {
   "cell_type": "code",
   "execution_count": null,
   "metadata": {},
   "outputs": [],
   "source": []
  }
 ],
 "metadata": {
  "language_info": {
   "name": "python"
  },
  "orig_nbformat": 4
 },
 "nbformat": 4,
 "nbformat_minor": 2
}
