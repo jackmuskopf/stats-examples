{
 "cells": [
  {
   "cell_type": "markdown",
   "metadata": {},
   "source": [
    "## [F-test](https://en.wikipedia.org/wiki/F-test)\n",
    "\n",
    "An F-test is any test where the test statistic follows an F-distribution under the null hypothesis.  An F-distribution arises from the ratio of two chi-squared distributions; for example, if $X_1, X_2$ follow chi-squared distributions with $r_1, r_2$ degrees of freedom, then $W = \\frac{X_1/r_1}{X_2/r_2}$ follows an F-distribution."
   ]
  },
  {
   "cell_type": "code",
   "execution_count": 4,
   "metadata": {},
   "outputs": [],
   "source": [
    "import numpy as np\n",
    "import pandas as pd\n",
    "import seaborn as sns\n",
    "import scipy.stats"
   ]
  },
  {
   "cell_type": "markdown",
   "metadata": {},
   "source": [
    "A one-way F-test compares \"between-group variation\" to \"within group variation.\"  If there are $k$ groups and $n_i$ samples for group $i$,\n",
    "\n",
    "$ \\sigma_{between}^2 = \\sum_{i=1}^k \\frac{n_i( \\bar{Y_i} - \\bar{Y} )^2}{K-1} $\n",
    "\n",
    "$ \\sigma_{within}^2 = \\sum_{i=1}^k \\sum_{j=1}^{n_i} \\frac{( Y_j - \\bar{Y_i} )^2}{N-k} $\n",
    "\n",
    "\"This F-statistic [$ \\frac{\\sigma_{between}^2}{\\sigma_{within}^2} $] follows the F-distribution with degrees of freedom $ d_{1}=K-1 $ and $ d_{2}=N-K $ under the null hypothesis. The statistic will be large if the between-group variability is large relative to the within-group variability, which is unlikely to happen if the population means of the groups all have the same value.\n",
    "\n",
    "Note that when there are only two groups for the one-way ANOVA F-test, $ F=t^{2} $ where t is the Student's $t$ statistic.\""
   ]
  },
  {
   "cell_type": "code",
   "execution_count": 63,
   "metadata": {},
   "outputs": [],
   "source": [
    "n_groups = 3\n",
    "group_size = 10\n",
    "DIFFERENT_MEANS = True\n",
    "\n",
    "data = list()\n",
    "for group in range(n_groups):\n",
    "    group_name = f\"Group {group}\"\n",
    "    mu = np.random.normal() if DIFFERENT_MEANS else 0\n",
    "    x = np.random.normal(loc=mu, size=(group_size,))\n",
    "    data.extend([(group_name, _x) for _x in x])"
   ]
  },
  {
   "cell_type": "code",
   "execution_count": 64,
   "metadata": {},
   "outputs": [
    {
     "data": {
      "text/plain": [
       "F_onewayResult(statistic=9.371923368878798, pvalue=0.0008108109337499424)"
      ]
     },
     "execution_count": 64,
     "metadata": {},
     "output_type": "execute_result"
    }
   ],
   "source": [
    "df = pd.DataFrame(data, columns=['GroupName', 'Measure'])\n",
    "df.head()\n",
    "scipy.stats.f_oneway(*[ \n",
    "    df[df['GroupName'] == group_name]['Measure'].values \n",
    "    for group_name in df['GroupName'].unique() \n",
    "])"
   ]
  },
  {
   "cell_type": "code",
   "execution_count": 65,
   "metadata": {},
   "outputs": [
    {
     "data": {
      "text/plain": [
       "<seaborn.axisgrid.FacetGrid at 0x19f6758f3d0>"
      ]
     },
     "execution_count": 65,
     "metadata": {},
     "output_type": "execute_result"
    },
    {
     "data": {
      "image/png": "[encoded data removed]",
      "text/plain": [
       "<Figure size 918.15x595.44 with 1 Axes>"
      ]
     },
     "metadata": {
      "needs_background": "light"
     },
     "output_type": "display_data"
    }
   ],
   "source": [
    "sns.displot(data=df, x='Measure', hue='GroupName', element='step', **dict(height=8.27, aspect=11.7/8.27))"
   ]
  },
  {
   "cell_type": "markdown",
   "metadata": {},
   "source": [
    "### Application to linear models\n",
    "\n"
   ]
  },
  {
   "cell_type": "code",
   "execution_count": 375,
   "metadata": {},
   "outputs": [],
   "source": [
    "import statsmodels.api as sm"
   ]
  },
  {
   "cell_type": "code",
   "execution_count": 381,
   "metadata": {},
   "outputs": [],
   "source": [
    "# setup of linear eq\n",
    "N = 1000\n",
    "d = 5\n",
    "sigma = 10\n",
    "\n",
    "# compute linear eq w noise\n",
    "beta = np.random.randint(-10, 10, size=(d,))\n",
    "X = np.random.normal(size=(N, d))\n",
    "eps = np.random.normal(size=(N,))*sigma\n",
    "y =  eps + X.dot(beta)"
   ]
  },
  {
   "cell_type": "code",
   "execution_count": 382,
   "metadata": {},
   "outputs": [
    {
     "name": "stdout",
     "output_type": "stream",
     "text": [
      "                                 OLS Regression Results                                \n",
      "=======================================================================================\n",
      "Dep. Variable:                      y   R-squared (uncentered):                   0.591\n",
      "Model:                            OLS   Adj. R-squared (uncentered):              0.589\n",
      "Method:                 Least Squares   F-statistic:                              287.2\n",
      "Date:                Tue, 28 Dec 2021   Prob (F-statistic):                   3.84e-190\n",
      "Time:                        12:41:44   Log-Likelihood:                         -3719.2\n",
      "No. Observations:                1000   AIC:                                      7448.\n",
      "Df Residuals:                     995   BIC:                                      7473.\n",
      "Df Model:                           5                                                  \n",
      "Covariance Type:            nonrobust                                                  \n",
      "==============================================================================\n",
      "                 coef    std err          t      P>|t|      [0.025      0.975]\n",
      "------------------------------------------------------------------------------\n",
      "x1            -0.4600      0.317     -1.452      0.147      -1.082       0.162\n",
      "x2            -5.9400      0.320    -18.536      0.000      -6.569      -5.311\n",
      "x3            -0.9184      0.317     -2.896      0.004      -1.541      -0.296\n",
      "x4            -9.2684      0.318    -29.131      0.000      -9.893      -8.644\n",
      "x5             4.8407      0.313     15.463      0.000       4.226       5.455\n",
      "==============================================================================\n",
      "Omnibus:                        4.583   Durbin-Watson:                   2.000\n",
      "Prob(Omnibus):                  0.101   Jarque-Bera (JB):                4.508\n",
      "Skew:                           0.134   Prob(JB):                        0.105\n",
      "Kurtosis:                       3.189   Cond. No.                         1.12\n",
      "==============================================================================\n",
      "\n",
      "Notes:\n",
      "[1] R² is computed without centering (uncentered) since the model does not contain a constant.\n",
      "[2] Standard Errors assume that the covariance matrix of the errors is correctly specified.\n"
     ]
    }
   ],
   "source": [
    "model = sm.OLS(y, X)\n",
    "result = model.fit()\n",
    "print(result.summary())"
   ]
  },
  {
   "cell_type": "code",
   "execution_count": 383,
   "metadata": {},
   "outputs": [],
   "source": [
    "yh = result.predict(X)\n",
    "resid = yh - y"
   ]
  },
  {
   "cell_type": "code",
   "execution_count": 384,
   "metadata": {},
   "outputs": [
    {
     "data": {
      "text/plain": [
       "(0.768430900490317,\n",
       " (0.7684309004903175, 1.092553396909372e-195),\n",
       " 0.7684309004903171)"
      ]
     },
     "execution_count": 384,
     "metadata": {},
     "output_type": "execute_result"
    }
   ],
   "source": [
    "# this is always true in linear model\n",
    "assert np.isclose(resid.dot(resid), y.dot(y) - yh.dot(y))\n",
    "\n",
    "(y - y.mean()).dot(yh - yh.mean())/(N*y.std()*yh.std()), scipy.stats.pearsonr(y, yh), scipy.stats.zscore(y).dot(scipy.stats.zscore(yh))/(N)"
   ]
  },
  {
   "cell_type": "code",
   "execution_count": 385,
   "metadata": {},
   "outputs": [
    {
     "name": "stdout",
     "output_type": "stream",
     "text": [
      "SSTO: 243025.09\n",
      "SSE: 99529.52\n",
      "SSR: 143495.57\n"
     ]
    }
   ],
   "source": [
    "# Calculations per \"Applied Linear Statistical Models\" (5th edition, p.225)\n",
    "\n",
    "use_matrix = False\n",
    "\n",
    "# too slow for d > 100 but used in theory\n",
    "if use_matrix:\n",
    "\n",
    "    H = X.dot(np.linalg.inv(X.T.dot(X))).dot(X.T)\n",
    "    J = np.ones(shape=(N, N))\n",
    "\n",
    "    ssto = y.dot(np.eye(N) - (1/N)*J).dot(y.T)\n",
    "    sse = y.dot(np.eye(N) - H).dot(y.T)\n",
    "    ssr = y.dot(H - (1/N)*J).dot(y.T)\n",
    "\n",
    "# much faster, same calculation\n",
    "else:\n",
    "\n",
    "    # equivalent: y.sum()**2/N, (y.sum()*y).sum()/N, y.mean()*y.sum()\n",
    "\n",
    "    ssto = y.dot(y) - y.mean()*y.sum()\n",
    "    sse = y.dot(y) - y.dot(yh)\n",
    "    ssr = yh.dot(y) -  y.mean()*y.sum()\n",
    "\n",
    "assert np.isclose(sse + ssr, ssto)\n",
    "\n",
    "print(\"\\n\".join([\n",
    "    f\"SSTO: {round(ssto, 2)}\", \n",
    "    f\"SSE: {round(sse, 2)}\", \n",
    "    f\"SSR: {round(ssr, 2)}\"\n",
    "]))"
   ]
  },
  {
   "cell_type": "code",
   "execution_count": 386,
   "metadata": {},
   "outputs": [
    {
     "name": "stdout",
     "output_type": "stream",
     "text": [
      "SSTO: 243025.09\n",
      "SSE: 99529.52\n",
      "SSR: 143495.57\n"
     ]
    }
   ],
   "source": [
    "# equivalently,\n",
    "\n",
    "ssto = N*y.std()**2             # SSTO\n",
    "sse = resid.dot(resid)          # SSE\n",
    "ssr = (yh - y.mean()).dot(y)    # SSR\n",
    "\n",
    "assert np.isclose(sse + ssr, ssto)\n",
    "\n",
    "print(\"\\n\".join([\n",
    "    f\"SSTO: {round(ssto, 2)}\", \n",
    "    f\"SSE: {round(sse, 2)}\", \n",
    "    f\"SSR: {round(ssr, 2)}\"\n",
    "]))"
   ]
  },
  {
   "cell_type": "code",
   "execution_count": 387,
   "metadata": {},
   "outputs": [
    {
     "data": {
      "text/plain": [
       "358.6325239417533"
      ]
     },
     "execution_count": 387,
     "metadata": {},
     "output_type": "execute_result"
    }
   ],
   "source": [
    "# per \"Applied Linear Statistical Models\" p.226\n",
    "msr = ssr/(d-1)\n",
    "mse = sse/(N-d)\n",
    "fvalue = msr/mse\n",
    "fvalue"
   ]
  },
  {
   "cell_type": "code",
   "execution_count": 388,
   "metadata": {},
   "outputs": [
    {
     "data": {
      "text/plain": [
       "(99529.5211280049, 99529.5211280049, 99529.52112800491)"
      ]
     },
     "execution_count": 388,
     "metadata": {},
     "output_type": "execute_result"
    }
   ],
   "source": [
    "# SSR ~ resid.dot(resid) == y.dot(y) - yh.dot(y); called SSE in \"Applied Linear Statistical Models\"\n",
    "ssr = resid.dot(resid)\n",
    "ssr, result.ssr, y.dot(y) - yh.dot(y)"
   ]
  },
  {
   "cell_type": "code",
   "execution_count": 389,
   "metadata": {},
   "outputs": [
    {
     "name": "stdout",
     "output_type": "stream",
     "text": [
      "MSE model: 28725.284\n",
      "MSE residual: 100.03\n"
     ]
    }
   ],
   "source": [
    "# mse of model\n",
    "mse_model = (y.dot(y) - ssr)/result.df_model\n",
    "mse_model\n",
    "\n",
    "# mse of residual\n",
    "mse_resid = ssr/(N-d)\n",
    "mse_resid\n",
    "\n",
    "print(\"\\n\".join([\n",
    "    f\"MSE model: {round(mse_model, 3)}\",\n",
    "    f\"MSE residual: {round(mse_resid, 3)}\"\n",
    "]))"
   ]
  },
  {
   "cell_type": "code",
   "execution_count": 390,
   "metadata": {},
   "outputs": [
    {
     "name": "stdout",
     "output_type": "stream",
     "text": [
      "Computed per statsmodels: 287.168\n",
      "Computed per \"Applied Linear Statistical Models\": 358.633\n"
     ]
    }
   ],
   "source": [
    "# slightly different from F-statistic in \"Applied Linear Statistical Models\" p.226, but close\n",
    "sm_fval = mse_model/mse_resid\n",
    "\n",
    "# confirm calculation matches statsmodels\n",
    "assert np.isclose(result._results.fvalue, sm_fval)\n",
    "\n",
    "# show differences\n",
    "print(\"\\n\".join([\n",
    "    f\"Computed per statsmodels: {round(sm_fval, 3)}\",\n",
    "    f\"Computed per \\\"Applied Linear Statistical Models\\\": {round(fvalue, 3)}\"\n",
    "]))"
   ]
  },
  {
   "cell_type": "code",
   "execution_count": 391,
   "metadata": {},
   "outputs": [
    {
     "data": {
      "text/plain": [
       "(1.1102230246251565e-16, 1.1102230246251565e-16)"
      ]
     },
     "execution_count": 391,
     "metadata": {},
     "output_type": "execute_result"
    }
   ],
   "source": [
    "# compute P-value under H0 (the coefficients should be 0)\n",
    "1 - scipy.stats.f(dfn=d-1, dfd=N-d).cdf(sm_fval), 1 - scipy.stats.f(dfn=d-1, dfd=N-d).cdf(fvalue)"
   ]
  }
 ],
 "metadata": {
  "interpreter": {
   "hash": "b3ba2566441a7c06988d0923437866b63cedc61552a5af99d1f4fb67d367b25f"
  },
  "kernelspec": {
   "display_name": "Python 3.8.5 64-bit ('base': conda)",
   "language": "python",
   "name": "python3"
  },
  "language_info": {
   "codemirror_mode": {
    "name": "ipython",
    "version": 3
   },
   "file_extension": ".py",
   "mimetype": "text/x-python",
   "name": "python",
   "nbconvert_exporter": "python",
   "pygments_lexer": "ipython3",
   "version": "3.8.5"
  },
  "orig_nbformat": 4
 },
 "nbformat": 4,
 "nbformat_minor": 2
}
