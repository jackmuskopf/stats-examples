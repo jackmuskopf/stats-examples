{
 "cells": [
  {
   "cell_type": "markdown",
   "metadata": {},
   "source": [
    "# [G-test](https://wikipedia.com/wiki/G-test)\n",
    "\n",
    "Use exact test for small sample size < 1000 (bi/multi)nomial"
   ]
  },
  {
   "cell_type": "code",
   "execution_count": 1,
   "metadata": {},
   "outputs": [],
   "source": [
    "import numpy as np\n",
    "import scipy.stats"
   ]
  },
  {
   "cell_type": "code",
   "execution_count": 16,
   "metadata": {},
   "outputs": [],
   "source": [
    "def g_test(x, p):\n",
    "    N = x.sum()\n",
    "    expected = p*N\n",
    "    obs_exp = np.divide(x, expected)\n",
    "    stat = 2 * x.dot(np.log(obs_exp))\n",
    "    pval = 1 - scipy.stats.chi2(df=len(x)-1).cdf(stat)\n",
    "    return dict(statistic=stat, pvalue=pval)"
   ]
  },
  {
   "cell_type": "code",
   "execution_count": 13,
   "metadata": {},
   "outputs": [],
   "source": [
    "def pearsons_stat(x, p):\n",
    "    assert len(x) == len(p)\n",
    "    N = np.array(x).sum()\n",
    "    stat = N*sum([ (_x/N - _p)**2/_p for _x, _p in zip(x, p) ])\n",
    "    pval = 1-scipy.stats.chi2(df=len(x)-1).cdf(stat)\n",
    "    return dict(statistic=stat, pvalue=pval)"
   ]
  },
  {
   "cell_type": "code",
   "execution_count": 51,
   "metadata": {},
   "outputs": [],
   "source": [
    "# test p\n",
    "p = np.array([.2, .2, .2, .2, .2])\n",
    "\n",
    "# random p\n",
    "sigma = 0.001\n",
    "p_real = p + abs(np.random.normal(size=(len(p),)))*0.01\n",
    "p_real = p_real/p_real.sum() \n",
    "\n",
    "x = np.random.multinomial(10000, pvals=p_real)\n",
    "N = x.sum()"
   ]
  },
  {
   "cell_type": "code",
   "execution_count": 52,
   "metadata": {},
   "outputs": [
    {
     "name": "stdout",
     "output_type": "stream",
     "text": [
      "Power_divergenceResult(statistic=8.347, pvalue=0.0796629588895526)\n",
      "{'statistic': 8.347000000000003, 'pvalue': 0.07966295888955255}\n",
      "{'statistic': 8.35905614615416, 'pvalue': 0.07927645328405541}\n"
     ]
    }
   ],
   "source": [
    "print(scipy.stats.chisquare(f_obs=x, f_exp=p*N))\n",
    "print(pearsons_stat(x, p))\n",
    "print(g_test(x, p))"
   ]
  },
  {
   "cell_type": "code",
   "execution_count": null,
   "metadata": {},
   "outputs": [],
   "source": []
  }
 ],
 "metadata": {
  "interpreter": {
   "hash": "b3ba2566441a7c06988d0923437866b63cedc61552a5af99d1f4fb67d367b25f"
  },
  "kernelspec": {
   "display_name": "Python 3.8.5 64-bit ('base': conda)",
   "language": "python",
   "name": "python3"
  },
  "language_info": {
   "codemirror_mode": {
    "name": "ipython",
    "version": 3
   },
   "file_extension": ".py",
   "mimetype": "text/x-python",
   "name": "python",
   "nbconvert_exporter": "python",
   "pygments_lexer": "ipython3",
   "version": "3.8.5"
  },
  "orig_nbformat": 4
 },
 "nbformat": 4,
 "nbformat_minor": 2
}
