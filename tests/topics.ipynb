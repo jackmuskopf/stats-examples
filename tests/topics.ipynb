{
 "cells": [
  {
   "cell_type": "markdown",
   "metadata": {},
   "source": [
    "- [Wiki list](https://en.wikipedia.org/wiki/Category:Statistical_tests)\n",
    "- [Baylor guide](https://www.baylor.edu/graduate/pa/doc.php/265538.pdf)"
   ]
  },
  {
   "cell_type": "markdown",
   "metadata": {},
   "source": [
    "The **significance level** of a test, denoted by $\\alpha$, is the probability of the study rejecting the null hypothesis, given that the null hypothesis was assumed to be true. This is also the **probability of false positive (Type I error)**."
   ]
  },
  {
   "cell_type": "markdown",
   "metadata": {},
   "source": [
    "$ p_{value} = P(T(X)$ or more extreme $ | H_0) $\n",
    "\n",
    "$ power = P($ choose $H_1 | H_1) $\n",
    "\n",
    "$ Z_{score} = \\frac{X - \\mu}{\\sigma} $"
   ]
  },
  {
   "cell_type": "markdown",
   "metadata": {},
   "source": [
    "- Test $\\mu = \\mu_0$ with known $\\sigma^2 \\implies $ Z-test\n",
    "- Test $\\mu = \\mu_0$ with known $\\sigma^2 \\implies $ Z-test\n",
    "- Test $\\mu = \\mu_0$ with unknown $\\sigma^2 \\implies $ (one sample) T-test\n",
    "- Test $\\mu_a = \\mu_b$ with unknown $\\sigma^2 \\implies $ (two sample) T-test"
   ]
  },
  {
   "cell_type": "markdown",
   "metadata": {},
   "source": []
  }
 ],
 "metadata": {
  "language_info": {
   "name": "python"
  },
  "orig_nbformat": 4
 },
 "nbformat": 4,
 "nbformat_minor": 2
}
