{
 "cells": [
  {
   "cell_type": "markdown",
   "metadata": {},
   "source": [
    "- [Wiki list](https://en.wikipedia.org/wiki/Category:Statistical_tests)\n",
    "- [Baylor guide](https://www.baylor.edu/graduate/pa/doc.php/265538.pdf)"
   ]
  },
  {
   "cell_type": "markdown",
   "metadata": {},
   "source": []
  }
 ],
 "metadata": {
  "language_info": {
   "name": "python"
  },
  "orig_nbformat": 4
 },
 "nbformat": 4,
 "nbformat_minor": 2
}
