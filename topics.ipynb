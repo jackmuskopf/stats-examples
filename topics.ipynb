{
 "cells": [
  {
   "cell_type": "markdown",
   "metadata": {},
   "source": [
    "- Probability theory\n",
    "  - Conditional probability\n",
    "  - Expectation\n",
    "- Statistical tests\n",
    "  - [UCLA Overview](https://stats.idre.ucla.edu/spss/whatstat/what-statistical-analysis-should-i-usestatistical-analyses-using-spss/)\n",
    "  - [Scipy tests](https://docs.scipy.org/doc/scipy/reference/stats.html#statistical-tests)\n",
    "  - Wikis\n",
    "    - [F-test](https://en.wikipedia.org/wiki/F-test)\n",
    "    - [Binomial proportions](https://en.wikipedia.org/wiki/Binomial_proportion_confidence_interval)"
   ]
  },
  {
   "cell_type": "markdown",
   "metadata": {},
   "source": []
  }
 ],
 "metadata": {
  "language_info": {
   "name": "python"
  },
  "orig_nbformat": 4
 },
 "nbformat": 4,
 "nbformat_minor": 2
}
