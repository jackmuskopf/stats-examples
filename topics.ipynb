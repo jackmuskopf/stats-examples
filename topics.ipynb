{
 "cells": [
  {
   "cell_type": "markdown",
   "metadata": {},
   "source": [
    "### Probability\n",
    "\n",
    "\n",
    "$ var(X) = E[X^2] - E[X]^2 $\n"
   ]
  },
  {
   "cell_type": "markdown",
   "metadata": {},
   "source": [
    "### Hypothesis testing\n",
    "\n",
    "$ p_{value} = P(T(X)$ or more extreme $ | H_0) $\n",
    "\n",
    "$ power = P($ choose $H_1 | H_1) $\n",
    "\n",
    "$ Z_{score} = \\frac{X - \\mu}{\\sigma} $\n"
   ]
  },
  {
   "cell_type": "markdown",
   "metadata": {},
   "source": [
    "\n",
    "### Classifier metrics\n",
    "Precision $ =  \\frac{tp}{tp+fp} \\iff $ What percent of selected are positive? (Positive predictive value) <br>\n",
    "Recall $ = \\frac{tp}{tp+fn} \\iff $ What percent of positives are selected? (Probability of detection) <br>\n",
    "Specificity $ = \\frac{tn}{tn+fp} \\iff $ What percent of negatives are ignored? (True negative rate) <br>\n",
    "Negative predictive value $ = \\frac{tn}{tn+fn} \\iff $ What percent of ignored are negative? <br>\n",
    "Fall-out $ = \\frac{fp}{fp + tn} \\iff $ What percent of negatives are selected? (False positive rate) <br>\n",
    "\n",
    "$ F_1 = 2\\frac{precision \\cdot recall}{precision + recall} $ <br>\n",
    "$ F_\\beta = (1+\\beta^2) \\cdot \\frac{precision \\cdot recall}{(\\beta^2 \\cdot precision) + recall} $ where recall is $\\beta$ times as important as precision.\n",
    "\n",
    "ROC curve $ \\sim tp_{rate} \\times fp_{rate} \\sim recall \\times fallout$"
   ]
  },
  {
   "cell_type": "markdown",
   "metadata": {},
   "source": [
    "### Regression\n",
    "\n",
    "Ridge regression contrains $ \\Vert \\beta \\Vert_2 $ ; Lasso constrains $ \\Vert \\beta\\Vert_1 $"
   ]
  },
  {
   "cell_type": "markdown",
   "metadata": {},
   "source": [
    "- Probability theory\n",
    "  - Conditional probability\n",
    "  - Expectation\n",
    "  - Distributions\n",
    "  - Bayes theorem\n",
    "- Statistical tests\n",
    "  - [UCLA Overview](https://stats.idre.ucla.edu/spss/whatstat/what-statistical-analysis-should-i-usestatistical-analyses-using-spss/)\n",
    "  - [Scipy tests](https://docs.scipy.org/doc/scipy/reference/stats.html#statistical-tests)\n",
    "  - Wikis\n",
    "    - [F-test](https://en.wikipedia.org/wiki/F-test)\n",
    "    - [Binomial proportions](https://en.wikipedia.org/wiki/Binomial_proportion_confidence_interval)\n",
    "    - ANOVA\n",
    "- Linear models\n",
    "  - GLS\n",
    "  - Logistic regression\n",
    "- Bayesian\n",
    "- Monte carlo\n",
    "- Clustering (supervised, unsupervised)\n",
    "- Time series and forecasting\n",
    "- Convex optimization\n",
    "- [Matrix factorization](https://developers.google.com/machine-learning/recommendation/collaborative/matrix)\n",
    "- Extra math\n",
    "  - Gamma function\n",
    "  - Error function\n",
    "  - L function\n",
    "  - Riemann hypothesis"
   ]
  },
  {
   "cell_type": "markdown",
   "metadata": {},
   "source": []
  }
 ],
 "metadata": {
  "language_info": {
   "name": "python"
  },
  "orig_nbformat": 4
 },
 "nbformat": 4,
 "nbformat_minor": 2
}
