{
 "cells": [
  {
   "cell_type": "markdown",
   "metadata": {},
   "source": [
    "### Quick Notes\n",
    "\n",
    "$ p_{value} = P(T(X)$ or more extreme $ | H_0) $\n",
    "\n",
    "$ power = P($ choose $H_1 | H_1) $\n",
    "\n",
    "$ var(X) = E[X^2] - E[X]^2 $\n",
    "\n",
    "Ridge regression contrains $ \\Vert \\beta \\Vert_2 $ ; Lasso constrains $ \\Vert \\beta\\Vert_1 $\n",
    "\n",
    "\n",
    "### Classifier metrics\n",
    "Precision $ =  \\frac{tp}{tp+fp} \\iff $ What percent of selected are positive? (Positive predictive value) <br>\n",
    "Recall $ = \\frac{tp}{tp+fn} \\iff $ What percent of positives are selected? (Probability of detection) <br>\n",
    "Specificity $ = \\frac{tn}{tn+fp} \\iff $ What percent of negatives are ignored? (True negative rate) <br>\n",
    "Negative predictive value $ = \\frac{tn}{tn+fn} \\iff $ What percent of ignored are negative? <br>\n",
    "Fall-out $ = \\frac{fp}{fp + tn} \\iff $ What percent of negatives are selected? (False positive rate) <br>\n",
    "\n",
    "$ F_1 = 2\\frac{precision \\cdot recall}{precision + recall} $ <br>\n",
    "$ F_\\beta = (1+\\beta^2) \\cdot \\frac{precision \\cdot recall}{(\\beta^2 \\cdot precision) + recall} $ where recall is $\\beta$ times as important as precision.\n",
    "\n",
    "ROC curve $ \\sim tp_{rate} \\times fp_{rate} \\sim recall \\times fallout$\n",
    "\n",
    "### Binomial distribution\n",
    "$ p(k | n) = { n \\choose k}p^k(1-p)^{n-k} $  <br>\n",
    "$ \\mu = np $ <br>\n",
    "$ \\sigma^2 = np(1-p) $"
   ]
  },
  {
   "cell_type": "code",
   "execution_count": null,
   "metadata": {},
   "outputs": [],
   "source": []
  },
  {
   "cell_type": "markdown",
   "metadata": {},
   "source": [
    "- Probability theory\n",
    "  - Conditional probability\n",
    "  - Expectation\n",
    "- Statistical tests\n",
    "  - [UCLA Overview](https://stats.idre.ucla.edu/spss/whatstat/what-statistical-analysis-should-i-usestatistical-analyses-using-spss/)\n",
    "  - [Scipy tests](https://docs.scipy.org/doc/scipy/reference/stats.html#statistical-tests)\n",
    "  - Wikis\n",
    "    - [F-test](https://en.wikipedia.org/wiki/F-test)\n",
    "    - [Binomial proportions](https://en.wikipedia.org/wiki/Binomial_proportion_confidence_interval)\n",
    "- Time series and forecasting\n",
    "- Bayesian\n",
    "- Clustering (supervised, unsupervised)\n",
    "- Convex optimization\n",
    "- Monte carlo"
   ]
  },
  {
   "cell_type": "markdown",
   "metadata": {},
   "source": []
  }
 ],
 "metadata": {
  "language_info": {
   "name": "python"
  },
  "orig_nbformat": 4
 },
 "nbformat": 4,
 "nbformat_minor": 2
}
